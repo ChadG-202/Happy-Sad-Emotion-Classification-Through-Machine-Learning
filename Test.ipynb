{
 "cells": [
  {
   "cell_type": "code",
   "execution_count": 17,
   "id": "aquatic-virgin",
   "metadata": {},
   "outputs": [
    {
     "data": {
      "image/png": "[encoded data removed]",
      "text/plain": [
       "<Figure size 432x288 with 1 Axes>"
      ]
     },
     "metadata": {
      "needs_background": "light"
     },
     "output_type": "display_data"
    }
   ],
   "source": [
    "# Imports\n",
    "import pandas as pd\n",
    "import numpy as np\n",
    "import tensorflow as tf\n",
    "import matplotlib.pyplot as plt\n",
    "import os\n",
    "import cv2\n",
    "\n",
    "# Testing model\n",
    "CNN_model = tf.keras.models.load_model('CNNClassifier40.model')\n",
    "MLP_model = tf.keras.models.load_model('MLPClassifier.model')\n",
    "\n",
    "# Location of data\n",
    "DATADIR = \"Happy_Sad/test\"\n",
    "CATEGORIES = [\"happy\", \"sad\"]\n",
    "\n",
    "# Checking file path\n",
    "for category in CATEGORIES:\n",
    "    path = os.path.join(DATADIR, category) # path to test happy or sad dir\n",
    "    for img in os.listdir(path):\n",
    "        img_array = cv2.imread(os.path.join(path, img), cv2.IMREAD_GRAYSCALE)\n",
    "        plt.imshow(img_array, cmap=\"gray\")\n",
    "        plt.show()\n",
    "        break\n",
    "    break"
   ]
  },
  {
   "cell_type": "code",
   "execution_count": 18,
   "id": "approved-merchandise",
   "metadata": {},
   "outputs": [
    {
     "name": "stdout",
     "output_type": "stream",
     "text": [
      "2992\n"
     ]
    }
   ],
   "source": [
    "IMG_SIZE = 48\n",
    "\n",
    "# Proccessing data function\n",
    "def create_training_data(direc, categories):\n",
    "    temp_data = []                             # Temporary array\n",
    "    for category in categories:                # For both happy and sad data\n",
    "        path = os.path.join(direc, category)   # Find file path\n",
    "        class_num = CATEGORIES.index(category) # Determine image class happy or sad/ 1 or 0\n",
    "        for img in os.listdir(path):    # Loop through images\n",
    "            try:\n",
    "                img_array = cv2.imread(os.path.join(path, img), cv2.IMREAD_GRAYSCALE) # Read in grey scale image\n",
    "                new_array = cv2.resize(img_array, (IMG_SIZE, IMG_SIZE))               # Resize image\n",
    "                temp_data.append([new_array, class_num])                              # Append to temporary array\n",
    "            except Exception as e:                                                    # Check for issue\n",
    "                print('Image failed to process: ' + e)\n",
    "    return temp_data                                                                  # Return processed data set\n",
    "            \n",
    "test_data = create_training_data(DATADIR, CATEGORIES)\n",
    "print(len(test_data))                                                       "
   ]
  },
  {
   "cell_type": "code",
   "execution_count": 19,
   "id": "defensive-williams",
   "metadata": {},
   "outputs": [
    {
     "name": "stdout",
     "output_type": "stream",
     "text": [
      "1\n",
      "0\n",
      "1\n",
      "0\n",
      "0\n",
      "1\n",
      "1\n",
      "0\n",
      "0\n",
      "1\n"
     ]
    }
   ],
   "source": [
    "import random\n",
    "\n",
    "random.shuffle(test_data)  # Shuffle data to prevent bias\n",
    "\n",
    "for sample in test_data[:10]:\n",
    "    print(sample[1])"
   ]
  },
  {
   "cell_type": "code",
   "execution_count": 20,
   "id": "opposite-valley",
   "metadata": {},
   "outputs": [],
   "source": [
    "X = [] # Image arrays\n",
    "y = [] # Image classification\n",
    "\n",
    "for features, label in test_data:\n",
    "    X.append(features)\n",
    "    y.append(label)\n",
    "    \n",
    "X = np.array(X).reshape(-1, IMG_SIZE, IMG_SIZE, 1) # Shape data\n",
    "y = np.asarray(y)"
   ]
  },
  {
   "cell_type": "code",
   "execution_count": 21,
   "id": "classical-socket",
   "metadata": {},
   "outputs": [
    {
     "name": "stdout",
     "output_type": "stream",
     "text": [
      "Sad\n"
     ]
    },
    {
     "data": {
      "image/png": "[encoded data removed]",
      "text/plain": [
       "<Figure size 432x288 with 1 Axes>"
      ]
     },
     "metadata": {
      "needs_background": "light"
     },
     "output_type": "display_data"
    }
   ],
   "source": [
    "TEST_ITEM = 16                                     # Visualise prediction item\n",
    "\n",
    "print('Happy' if y[TEST_ITEM] == 0 else 'Sad')    # Print category    \n",
    "\n",
    "plt.imshow(test_data[TEST_ITEM][0], cmap=\"gray\")  # Display Image\n",
    "plt.show()"
   ]
  },
  {
   "cell_type": "code",
   "execution_count": 22,
   "id": "caroline-nowhere",
   "metadata": {
    "scrolled": true
   },
   "outputs": [
    {
     "name": "stdout",
     "output_type": "stream",
     "text": [
      "CNN: Sad\n",
      "MLP: Sad\n"
     ]
    }
   ],
   "source": [
    "CNN_prediction = CNN_model.predict([X])[TEST_ITEM] # Get prediciton\n",
    "print('CNN: Sad' if CNN_prediction >= 0.5 else 'CNN: Happy') # Print prediciton\n",
    "MLP_prediction = MLP_model.predict([X])[TEST_ITEM] # Get prediciton\n",
    "print('MLP: Sad' if MLP_prediction >= 0.5 else 'MLP: Happy') # Print prediciton"
   ]
  },
  {
   "cell_type": "code",
   "execution_count": 23,
   "id": "divided-sixth",
   "metadata": {},
   "outputs": [
    {
     "name": "stdout",
     "output_type": "stream",
     "text": [
      "94/94 [==============================] - 2s 22ms/step - loss: 0.4469 - accuracy: 0.8045\n",
      "94/94 [==============================] - 0s 2ms/step - loss: 0.5959 - accuracy: 0.6949\n"
     ]
    }
   ],
   "source": [
    "evaluation_CNN = CNN_model.evaluate(X, y) # Evaluate accuracy and loss on entire dataset\n",
    "evaluation_MLP = MLP_model.evaluate(X, y) "
   ]
  },
  {
   "cell_type": "code",
   "execution_count": 24,
   "id": "interesting-garage",
   "metadata": {},
   "outputs": [],
   "source": [
    "with open('submission_file.csv','w') as f: # Generate csv file for categories agaisnt predicitons\n",
    "    f.write('Category,CNN Prediciton,MLP Prediction\\n')\n",
    "            \n",
    "with open('submission_file.csv','a') as f: # Predict and store into csv file\n",
    "    for data in test_data:\n",
    "        img_num = data[1]\n",
    "        img_data = data[0]\n",
    "        orig = img_data\n",
    "        data = img_data.reshape(-1, IMG_SIZE,IMG_SIZE, 1)\n",
    "        CNN_model_out = CNN_model.predict([data])\n",
    "        MLP_model_out = MLP_model.predict([data])\n",
    "        f.write('{},{},{}\\n'.format(img_num,CNN_model_out,MLP_model_out))"
   ]
  },
  {
   "cell_type": "code",
   "execution_count": null,
   "id": "seasonal-malawi",
   "metadata": {},
   "outputs": [],
   "source": []
  },
  {
   "cell_type": "code",
   "execution_count": null,
   "id": "first-section",
   "metadata": {},
   "outputs": [],
   "source": []
  },
  {
   "cell_type": "code",
   "execution_count": null,
   "id": "authentic-testimony",
   "metadata": {},
   "outputs": [],
   "source": []
  }
 ],
 "metadata": {
  "kernelspec": {
   "display_name": "Python 3",
   "language": "python",
   "name": "python3"
  },
  "language_info": {
   "codemirror_mode": {
    "name": "ipython",
    "version": 3
   },
   "file_extension": ".py",
   "mimetype": "text/x-python",
   "name": "python",
   "nbconvert_exporter": "python",
   "pygments_lexer": "ipython3",
   "version": "3.8.6"
  }
 },
 "nbformat": 4,
 "nbformat_minor": 5
}
