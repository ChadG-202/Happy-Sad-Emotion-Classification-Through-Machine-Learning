{
 "cells": [
  {
   "cell_type": "markdown",
   "id": "known-wealth",
   "metadata": {},
   "source": []
  },
  {
   "cell_type": "code",
   "execution_count": 1,
   "id": "abandoned-hampshire",
   "metadata": {},
   "outputs": [
    {
     "data": {
      "image/png": "[encoded data removed]",
      "text/plain": [
       "<Figure size 432x288 with 1 Axes>"
      ]
     },
     "metadata": {
      "needs_background": "light"
     },
     "output_type": "display_data"
    }
   ],
   "source": [
    "# Imports\n",
    "import numpy as np\n",
    "import matplotlib.pyplot as plt\n",
    "import os\n",
    "import cv2\n",
    "\n",
    "# Location of data\n",
    "DATADIR = \"Happy_Sad/train\"\n",
    "CATEGORIES = [\"happy\", \"sad\"]\n",
    "\n",
    "# Checking file path\n",
    "for category in CATEGORIES:\n",
    "    path = os.path.join(DATADIR, category) # path to train happy or sad dir\n",
    "    for img in os.listdir(path):\n",
    "        img_array = cv2.imread(os.path.join(path, img), cv2.IMREAD_GRAYSCALE)\n",
    "        plt.imshow(img_array, cmap=\"gray\")\n",
    "        plt.show()\n",
    "        break\n",
    "    break"
   ]
  },
  {
   "cell_type": "code",
   "execution_count": 2,
   "id": "oriental-tablet",
   "metadata": {},
   "outputs": [
    {
     "name": "stdout",
     "output_type": "stream",
     "text": [
      "(48, 48)\n"
     ]
    }
   ],
   "source": [
    "# Checking shape\n",
    "print(img_array.shape)"
   ]
  },
  {
   "cell_type": "code",
   "execution_count": 3,
   "id": "herbal-maine",
   "metadata": {},
   "outputs": [
    {
     "data": {
      "image/png": "[encoded data removed]",
      "text/plain": [
       "<Figure size 432x288 with 1 Axes>"
      ]
     },
     "metadata": {
      "needs_background": "light"
     },
     "output_type": "display_data"
    }
   ],
   "source": [
    "# Resizing\n",
    "IMG_SIZE = 48\n",
    "\n",
    "new_array = cv2.resize(img_array, (IMG_SIZE, IMG_SIZE))\n",
    "plt.imshow(new_array, cmap = \"gray\")\n",
    "plt.show()"
   ]
  },
  {
   "cell_type": "code",
   "execution_count": 4,
   "id": "detailed-cologne",
   "metadata": {},
   "outputs": [
    {
     "data": {
      "image/png": "[encoded data removed]",
      "text/plain": [
       "<Figure size 432x288 with 1 Axes>"
      ]
     },
     "metadata": {
      "needs_background": "light"
     },
     "output_type": "display_data"
    }
   ],
   "source": [
    "# data set\n",
    "x = ['Happy', 'Sad']\n",
    "y = [len(os.listdir(os.path.join(DATADIR, 'happy'))), len(os.listdir(os.path.join(DATADIR, 'sad')))]\n",
    "\n",
    "# plot stacked bar chart \n",
    "plt.xlabel('Category')\n",
    "plt.ylabel('Quantity')\n",
    "plt.title('Number of Images per Category')\n",
    "plt.bar(x, y, color='g')\n",
    "plt.show()"
   ]
  },
  {
   "cell_type": "code",
   "execution_count": 5,
   "id": "adolescent-parker",
   "metadata": {},
   "outputs": [
    {
     "name": "stdout",
     "output_type": "stream",
     "text": [
      "9548\n"
     ]
    }
   ],
   "source": [
    "# Proccessing data function\n",
    "def create_training_data(direc, categories):\n",
    "    temp_data = []                             # Temporary array\n",
    "    for category in categories:                # For both happy and sad data\n",
    "        path = os.path.join(direc, category)   # Find file path\n",
    "        class_num = CATEGORIES.index(category) # Determine image class happy or sad/ 1 or 0\n",
    "        for img in os.listdir(path)[:4774]:    # Loop through images - limited to 4830 to even happy and sad data\n",
    "            try:\n",
    "                img_array = cv2.imread(os.path.join(path, img), cv2.IMREAD_GRAYSCALE) # Read in grey scale image\n",
    "                new_array = cv2.resize(img_array, (IMG_SIZE, IMG_SIZE))               # Resize image\n",
    "                temp_data.append([new_array, class_num])                              # Append to temporary array\n",
    "            except Exception as e:                                                    # Check for issue\n",
    "                print('Image failed to process: ' + e)\n",
    "    return temp_data                                                                  # Return processed data set\n",
    "            \n",
    "training_data = create_training_data(DATADIR, CATEGORIES)\n",
    "print(len(training_data))                                                             # Length should be double 4774"
   ]
  },
  {
   "cell_type": "code",
   "execution_count": 6,
   "id": "scheduled-chorus",
   "metadata": {},
   "outputs": [
    {
     "name": "stdout",
     "output_type": "stream",
     "text": [
      "[[array([[255, 254, 255, ...,  65,  64,  51],\n",
      "       [255, 255, 253, ...,  47,  55,  62],\n",
      "       [255, 253, 255, ...,  50,  51,  50],\n",
      "       ...,\n",
      "       [118, 116,  91, ...,   4,   8,  12],\n",
      "       [112, 106,  91, ...,   7,   6,  10],\n",
      "       [111,  99,  81, ...,   8,  12,  16]], dtype=uint8), 0]]\n"
     ]
    }
   ],
   "source": [
    "print(training_data[:1]) # Example image array data"
   ]
  },
  {
   "cell_type": "code",
   "execution_count": 7,
   "id": "colonial-gamma",
   "metadata": {},
   "outputs": [
    {
     "name": "stdout",
     "output_type": "stream",
     "text": [
      "1\n",
      "0\n",
      "0\n",
      "0\n",
      "0\n",
      "1\n",
      "0\n",
      "1\n",
      "1\n",
      "0\n"
     ]
    }
   ],
   "source": [
    "import random\n",
    "\n",
    "random.shuffle(training_data) # Shuffle data to prevent bias\n",
    "\n",
    "for sample in training_data[:10]:\n",
    "    print(sample[1])"
   ]
  },
  {
   "cell_type": "code",
   "execution_count": 8,
   "id": "designing-upgrade",
   "metadata": {},
   "outputs": [],
   "source": [
    "X = [] # Image arrays\n",
    "y = [] # Image classification\n",
    "\n",
    "for features, label in training_data:\n",
    "    X.append(features)\n",
    "    y.append(label)\n",
    "    \n",
    "X = np.array(X).reshape(-1, IMG_SIZE, IMG_SIZE, 1) # Shape data\n",
    "y = np.asarray(y)"
   ]
  },
  {
   "cell_type": "code",
   "execution_count": 9,
   "id": "prime-folks",
   "metadata": {},
   "outputs": [],
   "source": [
    "import pickle\n",
    "\n",
    "pickle_out = open(\"X2.pickle\", \"wb\")\n",
    "pickle.dump(X, pickle_out)           # Export X data as pickle file\n",
    "pickle_out.close()\n",
    "\n",
    "pickle_out = open(\"y2.pickle\", \"wb\")\n",
    "pickle.dump(y, pickle_out)           # Export y data as pickle file\n",
    "pickle_out.close()"
   ]
  },
  {
   "cell_type": "code",
   "execution_count": null,
   "id": "subsequent-drawing",
   "metadata": {},
   "outputs": [],
   "source": []
  }
 ],
 "metadata": {
  "kernelspec": {
   "display_name": "Python 3",
   "language": "python",
   "name": "python3"
  },
  "language_info": {
   "codemirror_mode": {
    "name": "ipython",
    "version": 3
   },
   "file_extension": ".py",
   "mimetype": "text/x-python",
   "name": "python",
   "nbconvert_exporter": "python",
   "pygments_lexer": "ipython3",
   "version": "3.8.6"
  }
 },
 "nbformat": 4,
 "nbformat_minor": 5
}
